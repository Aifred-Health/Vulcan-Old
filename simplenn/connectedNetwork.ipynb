{
 "cells": [
  {
   "cell_type": "code",
   "execution_count": 2,
   "metadata": {
    "collapsed": false
   },
   "outputs": [],
   "source": [
    "import pandas as pd\n",
    "\n",
    "import os\n",
    "import sys\n",
    "import timeit\n",
    "\n",
    "import numpy as np\n",
    "\n",
    "import theano\n",
    "import theano.tensor as T\n",
    "\n",
    "from logistic_sgd import LogisticRegression, load_data\n"
   ]
  },
  {
   "cell_type": "code",
   "execution_count": null,
   "metadata": {
    "collapsed": false
   },
   "outputs": [],
   "source": []
  },
  {
   "cell_type": "code",
   "execution_count": 67,
   "metadata": {
    "collapsed": false
   },
   "outputs": [],
   "source": [
    "from Layer import Layer\n",
    "from NeuralNetClassifier import NeuralNetClassifier\n",
    "from neurons.InnerNeuron import InnerNeuron\n",
    "from neurons.InputNeuron import InputNeuron\n",
    "from statistic_functions.Sigmoid import Sigmoid\n",
    "\n",
    "net = NeuralNetClassifier(3, 1)\n",
    "#net.input_layer.add_bias_term(1)\n",
    "layer = Layer()\n",
    "#layer.add_bias_term(1)\n",
    "for i in range(0,10):\n",
    "    layer.add_neuron(InnerNeuron(Sigmoid()))\n",
    "net.add_hidden_layer(layer)\n",
    "layer2 = Layer()\n",
    "layer2.add_bias_term(1)\n",
    "for i in range(0,5):\n",
    "    layer2.add_neuron(InnerNeuron(Sigmoid()))\n",
    "net.add_hidden_layer(layer2)\n",
    "net.fully_connect_hidden_layer(2)\n",
    "for i in range(0, len(d)):\n",
    "    ss = 1\n",
    "    #net.learn_example([1,1,0,0,0], [0], ss)\n",
    "    #net.learn_example([0,0,0,1,1], [1], ss)\n",
    "    #net.learn_example([1,0,1,0,0], [0], ss)\n",
    "    \n",
    "    #net.learn_example([1,1,1,0,0], [0], ss)\n",
    "    #net.learn_example([1,0,0,0,0], [0], ss)\n",
    "    #net.learn_example([0,0,1,0,0], [0], ss)\n",
    "    #net.learn_example([0,1,0,0,0], [0], ss)\n",
    "    #net.learn_example([0,0,0,1,0], [1], ss)\n",
    "    #net.learn_example([0,0,0,0,1], [1], ss)\n",
    "    net.learn_example(d[i], out[i], ss)"
   ]
  },
  {
   "cell_type": "code",
   "execution_count": null,
   "metadata": {
    "collapsed": false
   },
   "outputs": [],
   "source": []
  },
  {
   "cell_type": "code",
   "execution_count": 62,
   "metadata": {
    "collapsed": false
   },
   "outputs": [],
   "source": [
    "data = pd.read_csv('diabetes.csv')\n",
    "out = data['Outcome']\n",
    "out = np.array(out).tolist()\n",
    "del data['Outcome']\n",
    "d = np.array(data)[:,0:3].tolist()\n",
    "out = [[i] for i in out]"
   ]
  },
  {
   "cell_type": "code",
   "execution_count": 68,
   "metadata": {
    "collapsed": false
   },
   "outputs": [
    {
     "data": {
      "text/plain": [
       "[0.3519781041320908]"
      ]
     },
     "execution_count": 68,
     "metadata": {},
     "output_type": "execute_result"
    }
   ],
   "source": [
    "net.predict(d[0])"
   ]
  },
  {
   "cell_type": "code",
   "execution_count": 71,
   "metadata": {
    "collapsed": false
   },
   "outputs": [],
   "source": []
  },
  {
   "cell_type": "code",
   "execution_count": null,
   "metadata": {
    "collapsed": false
   },
   "outputs": [],
   "source": []
  },
  {
   "cell_type": "code",
   "execution_count": null,
   "metadata": {
    "collapsed": true
   },
   "outputs": [],
   "source": []
  }
 ],
 "metadata": {
  "anaconda-cloud": {},
  "kernelspec": {
   "display_name": "Python [Root]",
   "language": "python",
   "name": "Python [Root]"
  },
  "language_info": {
   "codemirror_mode": {
    "name": "ipython",
    "version": 2
   },
   "file_extension": ".py",
   "mimetype": "text/x-python",
   "name": "python",
   "nbconvert_exporter": "python",
   "pygments_lexer": "ipython2",
   "version": "2.7.12"
  }
 },
 "nbformat": 4,
 "nbformat_minor": 0
}
